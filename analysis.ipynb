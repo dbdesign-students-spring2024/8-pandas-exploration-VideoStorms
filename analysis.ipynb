{
 "cells": [
  {
   "cell_type": "markdown",
   "metadata": {},
   "source": [
    "# pandas exploration\n",
    "In this assignment you will select a data set and do some munging and analysis of it using `pandas`, Jupyter Notebooks, and associated Python-centric data science tools."
   ]
  },
  {
   "attachments": {},
   "cell_type": "markdown",
   "metadata": {},
   "source": [
    "## Set up environment"
   ]
  },
  {
   "attachments": {},
   "cell_type": "markdown",
   "metadata": {},
   "source": [
    "The following lines ensure that `numpy` and `pandas` are installed in the notebook environment.  Depending on your system, this may not be necessary and may be removed."
   ]
  },
  {
   "cell_type": "code",
   "execution_count": 2,
   "metadata": {},
   "outputs": [
    {
     "name": "stdout",
     "output_type": "stream",
     "text": [
      "Requirement already satisfied: numpy in /opt/anaconda3/lib/python3.11/site-packages (1.26.4)\n",
      "Requirement already satisfied: pandas in /opt/anaconda3/lib/python3.11/site-packages (2.1.4)\n",
      "Requirement already satisfied: numpy<2,>=1.23.2 in /opt/anaconda3/lib/python3.11/site-packages (from pandas) (1.26.4)\n",
      "Requirement already satisfied: python-dateutil>=2.8.2 in /opt/anaconda3/lib/python3.11/site-packages (from pandas) (2.8.2)\n",
      "Requirement already satisfied: pytz>=2020.1 in /opt/anaconda3/lib/python3.11/site-packages (from pandas) (2023.3.post1)\n",
      "Requirement already satisfied: tzdata>=2022.1 in /opt/anaconda3/lib/python3.11/site-packages (from pandas) (2023.3)\n",
      "Requirement already satisfied: six>=1.5 in /opt/anaconda3/lib/python3.11/site-packages (from python-dateutil>=2.8.2->pandas) (1.16.0)\n"
     ]
    }
   ],
   "source": []
  },
  {
   "cell_type": "markdown",
   "metadata": {},
   "source": [
    "Import the core data science libraries:"
   ]
  },
  {
   "cell_type": "code",
   "execution_count": 1,
   "metadata": {},
   "outputs": [],
   "source": [
    "%matplotlib inline\n",
    "import matplotlib.pyplot as plt\n",
    "import numpy as np\n",
    "import pandas as pd"
   ]
  },
  {
   "cell_type": "markdown",
   "metadata": {},
   "source": [
    "## Import the raw data\n",
    "In this section, you will import the raw data into a `pandas` DataFrame."
   ]
  },
  {
   "cell_type": "code",
   "execution_count": 14,
   "metadata": {},
   "outputs": [
    {
     "data": {
      "text/html": [
       "<div>\n",
       "<style scoped>\n",
       "    .dataframe tbody tr th:only-of-type {\n",
       "        vertical-align: middle;\n",
       "    }\n",
       "\n",
       "    .dataframe tbody tr th {\n",
       "        vertical-align: top;\n",
       "    }\n",
       "\n",
       "    .dataframe thead th {\n",
       "        text-align: right;\n",
       "    }\n",
       "</style>\n",
       "<table border=\"1\" class=\"dataframe\">\n",
       "  <thead>\n",
       "    <tr style=\"text-align: right;\">\n",
       "      <th></th>\n",
       "      <th>GeoFips</th>\n",
       "      <th>GeoName</th>\n",
       "      <th>2017</th>\n",
       "      <th>2018</th>\n",
       "      <th>2019</th>\n",
       "      <th>2020</th>\n",
       "      <th>2021</th>\n",
       "      <th>2022</th>\n",
       "    </tr>\n",
       "  </thead>\n",
       "  <tbody>\n",
       "    <tr>\n",
       "      <th>0</th>\n",
       "      <td>00998</td>\n",
       "      <td>United States (Metropolitan Portion)</td>\n",
       "      <td>1.761911e+10</td>\n",
       "      <td>1.816070e+10</td>\n",
       "      <td>1.862572e+10</td>\n",
       "      <td>1.821260e+10</td>\n",
       "      <td>1.931117e+10</td>\n",
       "      <td>1.971377e+10</td>\n",
       "    </tr>\n",
       "    <tr>\n",
       "      <th>1</th>\n",
       "      <td>10180</td>\n",
       "      <td>Abilene, TX (Metropolitan Statistical Area)</td>\n",
       "      <td>6.827152e+06</td>\n",
       "      <td>7.141273e+06</td>\n",
       "      <td>7.426609e+06</td>\n",
       "      <td>7.354374e+06</td>\n",
       "      <td>7.573774e+06</td>\n",
       "      <td>7.894587e+06</td>\n",
       "    </tr>\n",
       "    <tr>\n",
       "      <th>2</th>\n",
       "      <td>10420</td>\n",
       "      <td>Akron, OH (Metropolitan Statistical Area)</td>\n",
       "      <td>3.642486e+07</td>\n",
       "      <td>3.688338e+07</td>\n",
       "      <td>3.747110e+07</td>\n",
       "      <td>3.609910e+07</td>\n",
       "      <td>3.751005e+07</td>\n",
       "      <td>3.770309e+07</td>\n",
       "    </tr>\n",
       "    <tr>\n",
       "      <th>3</th>\n",
       "      <td>10500</td>\n",
       "      <td>Albany, GA (Metropolitan Statistical Area)</td>\n",
       "      <td>5.693673e+06</td>\n",
       "      <td>5.702355e+06</td>\n",
       "      <td>5.839867e+06</td>\n",
       "      <td>5.797644e+06</td>\n",
       "      <td>6.068572e+06</td>\n",
       "      <td>6.096378e+06</td>\n",
       "    </tr>\n",
       "    <tr>\n",
       "      <th>4</th>\n",
       "      <td>10540</td>\n",
       "      <td>Albany-Lebanon, OR (Metropolitan Statistical A...</td>\n",
       "      <td>4.505965e+06</td>\n",
       "      <td>4.802294e+06</td>\n",
       "      <td>4.921026e+06</td>\n",
       "      <td>4.788775e+06</td>\n",
       "      <td>4.893295e+06</td>\n",
       "      <td>4.996612e+06</td>\n",
       "    </tr>\n",
       "  </tbody>\n",
       "</table>\n",
       "</div>"
      ],
      "text/plain": [
       "  GeoFips                                            GeoName          2017  \\\n",
       "0   00998               United States (Metropolitan Portion)  1.761911e+10   \n",
       "1   10180        Abilene, TX (Metropolitan Statistical Area)  6.827152e+06   \n",
       "2   10420          Akron, OH (Metropolitan Statistical Area)  3.642486e+07   \n",
       "3   10500         Albany, GA (Metropolitan Statistical Area)  5.693673e+06   \n",
       "4   10540  Albany-Lebanon, OR (Metropolitan Statistical A...  4.505965e+06   \n",
       "\n",
       "           2018          2019          2020          2021          2022  \n",
       "0  1.816070e+10  1.862572e+10  1.821260e+10  1.931117e+10  1.971377e+10  \n",
       "1  7.141273e+06  7.426609e+06  7.354374e+06  7.573774e+06  7.894587e+06  \n",
       "2  3.688338e+07  3.747110e+07  3.609910e+07  3.751005e+07  3.770309e+07  \n",
       "3  5.702355e+06  5.839867e+06  5.797644e+06  6.068572e+06  6.096378e+06  \n",
       "4  4.802294e+06  4.921026e+06  4.788775e+06  4.893295e+06  4.996612e+06  "
      ]
     },
     "execution_count": 14,
     "metadata": {},
     "output_type": "execute_result"
    }
   ],
   "source": [
    "# place your code into this Code cell\n",
    "\n",
    "df = pd.read_csv('Table.csv')\n",
    "df.head()\n"
   ]
  },
  {
   "cell_type": "markdown",
   "metadata": {},
   "source": [
    "## Data inspection\n",
    "In this section, you will show enough of your data for a viewer to get a general sense of how the data is structured and any unique features of it.  Complete each of the indicated tasks in a Code cell, making sure to include a Markdown cell above each Code cell that explains what is being shown by the code.  \n",
    "- Show 5 rows, selected at random, from the data set.\n",
    "- Show each of the column names and their data types.\n",
    "- Show any unique features of your chosen data set.\n",
    "\n",
    "Feel free to add as many additional cells as you need to help explain the raw data."
   ]
  },
  {
   "cell_type": "code",
   "execution_count": 5,
   "metadata": {},
   "outputs": [
    {
     "data": {
      "text/html": [
       "<div>\n",
       "<style scoped>\n",
       "    .dataframe tbody tr th:only-of-type {\n",
       "        vertical-align: middle;\n",
       "    }\n",
       "\n",
       "    .dataframe tbody tr th {\n",
       "        vertical-align: top;\n",
       "    }\n",
       "\n",
       "    .dataframe thead th {\n",
       "        text-align: right;\n",
       "    }\n",
       "</style>\n",
       "<table border=\"1\" class=\"dataframe\">\n",
       "  <thead>\n",
       "    <tr style=\"text-align: right;\">\n",
       "      <th></th>\n",
       "      <th>GeoFips</th>\n",
       "      <th>GeoName</th>\n",
       "      <th>2017</th>\n",
       "      <th>2018</th>\n",
       "      <th>2019</th>\n",
       "      <th>2020</th>\n",
       "      <th>2021</th>\n",
       "      <th>2022</th>\n",
       "    </tr>\n",
       "  </thead>\n",
       "  <tbody>\n",
       "    <tr>\n",
       "      <th>154</th>\n",
       "      <td>25860</td>\n",
       "      <td>Hickory-Lenoir-Morganton, NC (Metropolitan Sta...</td>\n",
       "      <td>15103484.0</td>\n",
       "      <td>14923589.0</td>\n",
       "      <td>14772281.0</td>\n",
       "      <td>14427958.0</td>\n",
       "      <td>14896449.0</td>\n",
       "      <td>15129685.0</td>\n",
       "    </tr>\n",
       "    <tr>\n",
       "      <th>273</th>\n",
       "      <td>38300</td>\n",
       "      <td>Pittsburgh, PA (Metropolitan Statistical Area)</td>\n",
       "      <td>150697726.0</td>\n",
       "      <td>154324237.0</td>\n",
       "      <td>155924635.0</td>\n",
       "      <td>147494188.0</td>\n",
       "      <td>152964506.0</td>\n",
       "      <td>153329563.0</td>\n",
       "    </tr>\n",
       "    <tr>\n",
       "      <th>48</th>\n",
       "      <td>15180</td>\n",
       "      <td>Brownsville-Harlingen, TX (Metropolitan Statis...</td>\n",
       "      <td>10734203.0</td>\n",
       "      <td>10950425.0</td>\n",
       "      <td>11200319.0</td>\n",
       "      <td>10912927.0</td>\n",
       "      <td>11660469.0</td>\n",
       "      <td>12032752.0</td>\n",
       "    </tr>\n",
       "    <tr>\n",
       "      <th>272</th>\n",
       "      <td>38220</td>\n",
       "      <td>Pine Bluff, AR (Metropolitan Statistical Area)</td>\n",
       "      <td>3510237.0</td>\n",
       "      <td>3436911.0</td>\n",
       "      <td>3395529.0</td>\n",
       "      <td>3208750.0</td>\n",
       "      <td>3390739.0</td>\n",
       "      <td>3311025.0</td>\n",
       "    </tr>\n",
       "    <tr>\n",
       "      <th>312</th>\n",
       "      <td>41860</td>\n",
       "      <td>San Francisco-Oakland-Berkeley, CA (Metropolit...</td>\n",
       "      <td>526582864.0</td>\n",
       "      <td>560553451.0</td>\n",
       "      <td>590717591.0</td>\n",
       "      <td>591150074.0</td>\n",
       "      <td>655887146.0</td>\n",
       "      <td>654730737.0</td>\n",
       "    </tr>\n",
       "  </tbody>\n",
       "</table>\n",
       "</div>"
      ],
      "text/plain": [
       "    GeoFips                                            GeoName         2017  \\\n",
       "154   25860  Hickory-Lenoir-Morganton, NC (Metropolitan Sta...   15103484.0   \n",
       "273   38300     Pittsburgh, PA (Metropolitan Statistical Area)  150697726.0   \n",
       "48    15180  Brownsville-Harlingen, TX (Metropolitan Statis...   10734203.0   \n",
       "272   38220     Pine Bluff, AR (Metropolitan Statistical Area)    3510237.0   \n",
       "312   41860  San Francisco-Oakland-Berkeley, CA (Metropolit...  526582864.0   \n",
       "\n",
       "            2018         2019         2020         2021         2022  \n",
       "154   14923589.0   14772281.0   14427958.0   14896449.0   15129685.0  \n",
       "273  154324237.0  155924635.0  147494188.0  152964506.0  153329563.0  \n",
       "48    10950425.0   11200319.0   10912927.0   11660469.0   12032752.0  \n",
       "272    3436911.0    3395529.0    3208750.0    3390739.0    3311025.0  \n",
       "312  560553451.0  590717591.0  591150074.0  655887146.0  654730737.0  "
      ]
     },
     "execution_count": 5,
     "metadata": {},
     "output_type": "execute_result"
    }
   ],
   "source": [
    "data.sample(5)"
   ]
  },
  {
   "cell_type": "code",
   "execution_count": 6,
   "metadata": {},
   "outputs": [
    {
     "data": {
      "text/plain": [
       "GeoFips     object\n",
       "GeoName     object\n",
       "2017       float64\n",
       "2018       float64\n",
       "2019       float64\n",
       "2020       float64\n",
       "2021       float64\n",
       "2022       float64\n",
       "dtype: object"
      ]
     },
     "execution_count": 6,
     "metadata": {},
     "output_type": "execute_result"
    }
   ],
   "source": [
    "data.dtypes"
   ]
  },
  {
   "cell_type": "code",
   "execution_count": 7,
   "metadata": {},
   "outputs": [
    {
     "data": {
      "text/plain": [
       "GeoFips    390\n",
       "GeoName    385\n",
       "2017       385\n",
       "2018       385\n",
       "2019       385\n",
       "2020       385\n",
       "2021       385\n",
       "2022       385\n",
       "dtype: int64"
      ]
     },
     "execution_count": 7,
     "metadata": {},
     "output_type": "execute_result"
    }
   ],
   "source": [
    "data.nunique()"
   ]
  },
  {
   "cell_type": "markdown",
   "metadata": {},
   "source": [
    "## Data munging\n",
    "Place your **data munging** code and documentation within this section.  \n",
    "- Keep each of your Code cells short and focused on a single task.  \n",
    "- Include a Markdown cell above each code cell that describes what task the code within the code cell is performing.\n",
    "- Make as many code cells as you need to complete the munging - a few have been created for you to start with.\n",
    "- Display 5 sample rows of the modified data after each transformation so a viewer can see how the data has changed.\n",
    "\n",
    "**Note**: If you believe that your data set does not require any munging, please explain in detail.  Create Markdown cells that explain your thinking and create Code cells that show any specific structures of the data you refer to in your explanation."
   ]
  },
  {
   "cell_type": "code",
   "execution_count": null,
   "metadata": {},
   "outputs": [],
   "source": [
    "## The data does not require any munging aside from removing the first 3 lines of the CSV file when downloaded straight from online which will do here\n"
   ]
  },
  {
   "cell_type": "code",
   "execution_count": null,
   "metadata": {},
   "outputs": [],
   "source": []
  },
  {
   "cell_type": "markdown",
   "metadata": {},
   "source": [
    "## Data analysis\n",
    "Place your **data analysis** code and documentation within this section.\n",
    "- Perform at least 5 different statistical or other analyses of different aspects of the data.\n",
    "    - Your analyses must be specific and relevant to your chosen data set and show interesting aspects of it.\n",
    "    - Include at least one analysis that includes grouping rows by a shared attribute and performing some kind of statistical analysis on each group.\n",
    "    - Sort the data in at least 1 of your analyses, but sort on its own does not constitute an analysis on its own.\n",
    "- Keep each of your Code cells short and focused on a single task.\n",
    "- Include a Markdown cell above each Code cell that describes what task the code within the Code cell is performing.\n",
    "- Make as many code cells as you need to complete the analysis - a few have been created for you to start with."
   ]
  },
  {
   "cell_type": "code",
   "execution_count": 9,
   "metadata": {},
   "outputs": [
    {
     "name": "stdout",
     "output_type": "stream",
     "text": [
      "               2017          2018          2019          2020          2021  \\\n",
      "count  3.850000e+02  3.850000e+02  3.850000e+02  3.850000e+02  3.850000e+02   \n",
      "mean   9.152787e+07  9.434172e+07  9.675932e+07  9.461479e+07  1.003303e+08   \n",
      "std    9.047197e+08  9.325745e+08  9.564438e+08  9.350888e+08  9.914921e+08   \n",
      "min    2.482118e+06  2.420183e+06  2.564490e+06  2.453455e+06  2.513431e+06   \n",
      "25%    6.342091e+06  6.422914e+06  6.491649e+06  6.407321e+06  6.790728e+06   \n",
      "50%    1.197257e+07  1.249065e+07  1.286441e+07  1.232838e+07  1.239199e+07   \n",
      "75%    2.877977e+07  2.930716e+07  3.015131e+07  3.066718e+07  3.213634e+07   \n",
      "max    1.761911e+10  1.816070e+10  1.862572e+10  1.821260e+10  1.931117e+10   \n",
      "\n",
      "               2022  \n",
      "count  3.850000e+02  \n",
      "mean   1.024286e+08  \n",
      "std    1.012211e+09  \n",
      "min    2.666455e+06  \n",
      "25%    6.808904e+06  \n",
      "50%    1.281377e+07  \n",
      "75%    3.262419e+07  \n",
      "max    1.971377e+10  \n"
     ]
    }
   ],
   "source": [
    "# Generating summary statistics for numeric columns\n",
    "summary_stats = data.describe()\n",
    "print(summary_stats)"
   ]
  },
  {
   "cell_type": "code",
   "execution_count": 15,
   "metadata": {},
   "outputs": [
    {
     "name": "stdout",
     "output_type": "stream",
     "text": [
      "Top 5 Areas by 2022 GDP:\n",
      "                                                GeoName          2022\n",
      "0                 United States (Metropolitan Portion)  1.971377e+10\n",
      "250  New York-Newark-Jersey City, NY-NJ-PA (Metropo...  1.870253e+09\n",
      "211  Los Angeles-Long Beach-Anaheim, CA (Metropolit...  1.060496e+09\n",
      "69   Chicago-Naperville-Elgin, IL-IN-WI (Metropolit...  7.056590e+08\n",
      "312  San Francisco-Oakland-Berkeley, CA (Metropolit...  6.547307e+08\n"
     ]
    }
   ],
   "source": [
    "# Top 5 Metropolitan Areas by 2022 GDP\n",
    "def top_5_areas_2022(df):\n",
    "    \"\"\"\n",
    "    Finds the top 5 areas by GDP in 2022.\n",
    "    \"\"\"\n",
    "    df_sorted = df.sort_values(by='2022', ascending=False)\n",
    "    top_5 = df_sorted[['GeoName', '2022']].head(5)\n",
    "    print(\"Top 5 Areas by 2022 GDP:\\n\", top_5)\n",
    "\n",
    "# Example usage\n",
    "top_5_areas_2022(df)\n"
   ]
  },
  {
   "cell_type": "code",
   "execution_count": 16,
   "metadata": {},
   "outputs": [
    {
     "name": "stdout",
     "output_type": "stream",
     "text": [
      "Percentage Change in GDP (2017-2022):\n",
      "                                                GeoName  Pct_Change\n",
      "346   The Villages, FL (Metropolitan Statistical Area)   49.948008\n",
      "229        Midland, TX (Metropolitan Statistical Area)   39.517937\n",
      "282     Provo-Orem, UT (Metropolitan Statistical Area)   38.540401\n",
      "22   Austin-Round Rock-Georgetown, TX (Metropolitan...   37.227846\n",
      "313  San Jose-Sunnyvale-Santa Clara, CA (Metropolit...   36.208326\n",
      "..                                                 ...         ...\n",
      "385                                                NaN         NaN\n",
      "386                                                NaN         NaN\n",
      "387                                                NaN         NaN\n",
      "388                                                NaN         NaN\n",
      "389                                                NaN         NaN\n",
      "\n",
      "[390 rows x 2 columns]\n"
     ]
    }
   ],
   "source": [
    "#Percentage Change from 2017 to 2022\n",
    "\n",
    "def percentage_change(df):\n",
    "    \"\"\"\n",
    "    Computes the percentage change in GDP from 2017 to 2022.\n",
    "    \"\"\"\n",
    "    df['Pct_Change'] = ((df['2022'] - df['2017']) / df['2017']) * 100\n",
    "    df_sorted = df.sort_values(by='Pct_Change', ascending=False)\n",
    "    print(\"Percentage Change in GDP (2017-2022):\\n\", df_sorted[['GeoName', 'Pct_Change']])\n",
    "\n",
    "# Example usage\n",
    "percentage_change(df)\n"
   ]
  },
  {
   "cell_type": "code",
   "execution_count": 20,
   "metadata": {},
   "outputs": [
    {
     "name": "stdout",
     "output_type": "stream",
     "text": [
      "Total GDP by State in 2022:\n",
      "                                        State          2022\n",
      "79                                   Unknown  1.971377e+10\n",
      "5         CA (Metropolitan Statistical Area)  3.137316e+09\n",
      "56  NY-NJ-PA (Metropolitan Statistical Area)  1.870253e+09\n",
      "75        TX (Metropolitan Statistical Area)  1.742995e+09\n",
      "11        FL (Metropolitan Statistical Area)  1.194512e+09\n",
      "..                                       ...           ...\n",
      "82   VA-WV (Metropolitan Statistical Area) *  7.677814e+06\n",
      "47        ND (Metropolitan Statistical Area)  7.256824e+06\n",
      "78     UT-ID (Metropolitan Statistical Area)  6.808904e+06\n",
      "76     TX-AR (Metropolitan Statistical Area)  5.501149e+06\n",
      "20     ID-WA (Metropolitan Statistical Area)  2.979199e+06\n",
      "\n",
      "[91 rows x 2 columns]\n"
     ]
    }
   ],
   "source": [
    "def aggregate_gdp_by_state(df):\n",
    "    \"\"\"\n",
    "    Groups metropolitan areas by state and calculates total GDP for each state.\n",
    "    \"\"\"\n",
    "    # Convert all values to string to avoid type errors\n",
    "    df['GeoName'] = df['GeoName'].astype(str)\n",
    "\n",
    "    # Extract states from GeoName (assuming they are comma-separated with states listed second)\n",
    "    df['State'] = df['GeoName'].apply(lambda x: x.split(',')[-1].strip() if ',' in x else 'Unknown')\n",
    "\n",
    "    # Group by State and sum GDP for 2022\n",
    "    df_grouped = df.groupby('State')['2022'].sum().reset_index()\n",
    "\n",
    "    # Sort the result by GDP\n",
    "    df_grouped_sorted = df_grouped.sort_values(by='2022', ascending=False)\n",
    "\n",
    "    print(\"Total GDP by State in 2022:\\n\", df_grouped_sorted)\n",
    "\n",
    "# Example usage\n",
    "aggregate_gdp_by_state(df)\n"
   ]
  },
  {
   "cell_type": "code",
   "execution_count": 18,
   "metadata": {},
   "outputs": [
    {
     "name": "stdout",
     "output_type": "stream",
     "text": [
      "Average Annual GDP Growth Rate:\n",
      "                                                GeoName  Avg_Annual_Growth\n",
      "346   The Villages, FL (Metropolitan Statistical Area)           0.084397\n",
      "229        Midland, TX (Metropolitan Statistical Area)           0.068873\n",
      "282     Provo-Orem, UT (Metropolitan Statistical Area)           0.067371\n",
      "22   Austin-Round Rock-Georgetown, TX (Metropolitan...           0.065341\n",
      "313  San Jose-Sunnyvale-Santa Clara, CA (Metropolit...           0.063753\n",
      "..                                                 ...                ...\n",
      "385                                                NaN                NaN\n",
      "386                                                NaN                NaN\n",
      "387                                                NaN                NaN\n",
      "388                                                NaN                NaN\n",
      "389                                                NaN                NaN\n",
      "\n",
      "[390 rows x 2 columns]\n"
     ]
    }
   ],
   "source": [
    "def avg_annual_growth_rate(df):\n",
    "    \"\"\"\n",
    "    Calculates the average annual growth rate of GDP for each metropolitan area.\n",
    "    \"\"\"\n",
    "    df['Avg_Annual_Growth'] = (df['2022'] / df['2017']) ** (1 / 5) - 1\n",
    "    df_sorted = df.sort_values(by='Avg_Annual_Growth', ascending=False)\n",
    "    print(\"Average Annual GDP Growth Rate:\\n\", df_sorted[['GeoName', 'Avg_Annual_Growth']])\n",
    "\n",
    "# Example usage\n",
    "avg_annual_growth_rate(df)\n"
   ]
  },
  {
   "cell_type": "code",
   "execution_count": null,
   "metadata": {},
   "outputs": [],
   "source": [
    "# Adding a state extraction function\n",
    "def extract_state(geo_name):\n",
    "    if geo_name and ',' in geo_name:\n",
    "        return geo_name.split(',')[-1].strip()\n",
    "    return \"Unknown\"\n",
    "\n",
    "# Filling missing values\n",
    "df[\"GeoName\"] = df[\"GeoName\"].fillna(\"Unknown\")\n",
    "\n",
    "# Adding \"State\" column\n",
    "df[\"State\"] = df[\"GeoName\"].apply(extract_state)\n",
    "\n",
    "# Grouping by state and summarizing financial values\n",
    "grouped_by_state = df.groupby(\"State\").sum(numeric_only=True)\n",
    "\n",
    "print(grouped_by_state)\n"
   ]
  },
  {
   "cell_type": "markdown",
   "metadata": {},
   "source": [
    "## Data visualization\n",
    "In this section, you will create a few **visualizations** that show some of the insights you have gathered from this data.\n",
    "- Create at least 5 different visualizations, where each visualization shows different insights into the data.\n",
    "- Use at least 3 different visualization types (e.g. bar charts, line charts, stacked area charts, pie charts, etc)\n",
    "- Create a Markdown cell and a Code cell for each, where you explain and show the visualizations, respectively.\n",
    "- Create as many additional cells as you need to prepare the data for the visualizations."
   ]
  },
  {
   "cell_type": "code",
   "execution_count": null,
   "metadata": {},
   "outputs": [],
   "source": []
  },
  {
   "cell_type": "code",
   "execution_count": null,
   "metadata": {},
   "outputs": [],
   "source": []
  }
 ],
 "metadata": {
  "kernelspec": {
   "display_name": "Python 3",
   "language": "python",
   "name": "python3"
  },
  "language_info": {
   "codemirror_mode": {
    "name": "ipython",
    "version": 3
   },
   "file_extension": ".py",
   "mimetype": "text/x-python",
   "name": "python",
   "nbconvert_exporter": "python",
   "pygments_lexer": "ipython3",
   "version": "3.11.7"
  }
 },
 "nbformat": 4,
 "nbformat_minor": 4
}
